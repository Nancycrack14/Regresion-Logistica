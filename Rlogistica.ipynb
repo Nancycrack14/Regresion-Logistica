{
  "nbformat": 4,
  "nbformat_minor": 0,
  "metadata": {
    "colab": {
      "provenance": []
    },
    "kernelspec": {
      "name": "python3",
      "display_name": "Python 3"
    },
    "language_info": {
      "name": "python"
    }
  },
  "cells": [
    {
      "cell_type": "markdown",
      "source": [
        "En este análisis, trabajaré con una base de datos de la Liga MX, que abarca los resultados de partidos disputados entre 2016 y 2023. El objetivo es aplicar regresión logística para predecir si un partido tendrá un ganador o terminará en empate, utilizando variables como los goles anotados, la localía y otros factores relevantes.\n",
        "\n",
        "\n",
        "La base de datos contiene diversas variables relacionadas con los encuentros, incluyendo información sobre los equipos, el arbitraje, los goles y otros aspectos relevantes. A continuación, se describen las variables incluidas en el análisis:\n",
        "\n",
        "\n",
        "\n",
        "*   id: Número de identificación del partido.\n",
        "*   referee: Nombre del árbitro.\n",
        "*   referee: Nombre del árbitro.\n",
        "*   timezone: Zona horaria en la que se disputó el partido.\n",
        "*   date: Fecha del encuentro.\n",
        "*   venue_id: Identificación del estadio.\n",
        "*   venue_name: Nombre del estadio.\n",
        "*   venue_city: Ciudad donde se ubica el estadio.\n",
        "*   season: Temporada en la que se jugó el partido.\n",
        "*   round: Jornada del torneo en la que se disputó el encuentro.\n",
        "*   home_team: Equipo que juega como local.\n",
        "*   away_team: Equipo que juega como visitante.\n",
        "*   away_win: Equipo ganador del partido.\n",
        "*   home_goals: Cantidad de goles anotados por el equipo local.\n",
        "*   away_goals: Cantidad de goles anotados por el equipo visitante.\n",
        "*   home_goals_half_time: Goles del equipo local al medio tiempo.\n",
        "*   away_goals_half_time: Goles del equipo visitante al medio tiempo.\n",
        "*   home_goals_fulltime: Goles del equipo local al final del tiempo reglamentario.\n",
        "*   away_goals_fulltime: Goles del equipo visitante al final del tiempo reglamentario.\n",
        "*   home_goals_extra_time: Goles del equipo local en tiempo extra.\n",
        "*   away_goals_extra_time: Goles del equipo visitante en tiempo extra.\n",
        "*   home_goals_penalty: Goles del equipo local en tanda de penales.\n",
        "*   away_goals_penalty: Goles del equipo visitante en tanda de penales.\n",
        "*   has_winner: que es la variable binarizada que tiene 1 si el equipo gana y 0 si el equipo pierde o empata\n",
        "\n",
        "\n",
        "\n",
        "\n",
        "\n",
        "La base de datos utilizada en este estudio fue obtenida de Kaggle en el siguiente enlace:\n",
        "\n",
        "LigaMX. (2024, 25 de junio). Kaggle. https://www.kaggle.com/datasets/gerardojaimeescareo/ligamx-matches-2016-2022"
      ],
      "metadata": {
        "id": "bgwDYtLXTDXh"
      }
    },
    {
      "cell_type": "code",
      "execution_count": 72,
      "metadata": {
        "colab": {
          "base_uri": "https://localhost:8080/"
        },
        "id": "3AtyNs7NPwXN",
        "outputId": "deb2572b-a65b-4db5-f369-a4abeb95f682"
      },
      "outputs": [
        {
          "output_type": "stream",
          "name": "stdout",
          "text": [
            "Tamaño de X: (1277, 2), Tamaño de y: (1277,)\n"
          ]
        }
      ],
      "source": [
        "from sklearn.model_selection import train_test_split\n",
        "import pandas as pd\n",
        "import numpy as np\n",
        "\n",
        "# Se cargan los datos\n",
        "df = pd.read_csv(\"LigaMx2016-2023.csv\")\n",
        "\n",
        "# Se eliminan columnas que no aportan al modelo\n",
        "columnas_a_eliminar = [\"id\", \"referee\", \"timezone\", \"date\", \"venue_id\", \"venue_name\", \"venue_city\", \"season\", \"round\"]\n",
        "df = df.drop(columns=columnas_a_eliminar, errors='ignore')\n",
        "\n",
        "# Se eliminan filas con valores NaN\n",
        "df = df.dropna()\n",
        "\n",
        "# Se eliminan columnas categóricas irrelevantes\n",
        "df = df.drop(columns=[\"home_team\", \"away_team\"], errors='ignore')\n",
        "\n",
        "# Se convierten columnas booleanas a enteros\n",
        "df = df.apply(lambda x: x.astype(int) if x.dtype == 'bool' else x)\n",
        "\n",
        "# Calcular la matriz de correlación antes de eliminar 'has_winner'\n",
        "cor_matrix = df.corr().abs()\n",
        "upper_triangle = np.triu(np.ones(cor_matrix.shape), k=1)\n",
        "high_corr_pairs = np.where(cor_matrix > 0.85)\n",
        "variables_to_drop = set()\n",
        "\n",
        "# Excluir 'has_winner' de la lista de variables a eliminar\n",
        "for i, j in zip(*high_corr_pairs):\n",
        "    if i != j and cor_matrix.columns[j] != 'has_winner':\n",
        "        variables_to_drop.add(cor_matrix.columns[j])\n",
        "\n",
        "df = df.drop(columns=list(variables_to_drop), errors='ignore')\n",
        "\n",
        "# Se especifica variable binaria de salida\n",
        "y = df['has_winner']\n",
        "X = df.drop(columns=['has_winner'], errors='ignore')\n",
        "\n",
        "# Se verifica valor de x\n",
        "print(f\"Tamaño de X: {X.shape}, Tamaño de y: {y.shape}\")"
      ]
    },
    {
      "cell_type": "markdown",
      "source": [
        "Para entrenar y evaluar el modelo de manera justa, dividí los datos en 80% para entrenamiento y 20% para prueba. Como la cantidad de partidos con y sin ganador no es igual, usé estratificación para mantener el mismo balance de clases en ambos conjuntos. A continuación, muestro las proporciones de cada categoría en los datos originales, de entrenamiento y de prueba."
      ],
      "metadata": {
        "id": "NmsnkGasePx7"
      }
    },
    {
      "cell_type": "code",
      "source": [
        "\n",
        "# Se separan los datos en entrenamiento y prueba con una proporción 80/20\n",
        "X_train, X_test, y_train, y_test = train_test_split(X, y, test_size=0.2, stratify=y, random_state=42)\n",
        "\n",
        "# Mostrar conteo de clases en los conjuntos\n",
        "print(\"\\nConteo de clases en los datos originales:\")\n",
        "print(y.value_counts())\n",
        "\n",
        "print(\"\\nConteo de clases en el conjunto de entrenamiento:\")\n",
        "print(y_train.value_counts())\n",
        "\n",
        "print(\"\\nConteo de clases en el conjunto de prueba:\")\n",
        "print(y_test.value_counts())"
      ],
      "metadata": {
        "colab": {
          "base_uri": "https://localhost:8080/"
        },
        "id": "BKylAHrTeRRc",
        "outputId": "ee495dfc-e550-4e60-ff4b-1b8f96a76b55"
      },
      "execution_count": 73,
      "outputs": [
        {
          "output_type": "stream",
          "name": "stdout",
          "text": [
            "\n",
            "Conteo de clases en los datos originales:\n",
            "has_winner\n",
            "1    747\n",
            "0    530\n",
            "Name: count, dtype: int64\n",
            "\n",
            "Conteo de clases en el conjunto de entrenamiento:\n",
            "has_winner\n",
            "1    597\n",
            "0    424\n",
            "Name: count, dtype: int64\n",
            "\n",
            "Conteo de clases en el conjunto de prueba:\n",
            "has_winner\n",
            "1    150\n",
            "0    106\n",
            "Name: count, dtype: int64\n"
          ]
        }
      ]
    },
    {
      "cell_type": "markdown",
      "source": [
        "Para evaluar el rendimiento del modelo de regresión logística, aplicaré una validación cruzada utilizando los datos de entrenamiento. Este método permite medir la exactitud del modelo dividiendo los datos en varios subconjuntos y entrenándolo múltiples veces para obtener una evaluación más precisa.\n",
        "\n",
        "Si la base de datos es demasiado compleja, en lugar de usar todas las variables disponibles, seleccionaré cinco características clave que puedan influir en el resultado del partido, asegurando así un modelo más eficiente y fácil de interpretar."
      ],
      "metadata": {
        "id": "7_Ee52xzgbxj"
      }
    },
    {
      "cell_type": "code",
      "source": [
        "from sklearn.linear_model import LogisticRegression\n",
        "from sklearn.model_selection import cross_val_score\n",
        "\n",
        "# Se entrena un modelo de regresión logística con validación cruzada (5 folds)\n",
        "modelo = LogisticRegression(max_iter=1000, solver='liblinear')\n",
        "\n",
        "# Validación cruzada con 5 folds\n",
        "scores = cross_val_score(modelo, X_train, y_train, cv=5, scoring='accuracy')\n",
        "\n",
        "# Se muestra la exactitud promedio\n",
        "print(f\"\\nExactitud promedio con validación cruzada (5-Fold): {scores.mean():.4f}\")"
      ],
      "metadata": {
        "colab": {
          "base_uri": "https://localhost:8080/"
        },
        "id": "AVxntSTh-EqQ",
        "outputId": "b3ac6c37-075c-4256-e6de-d0e82da6372f"
      },
      "execution_count": 74,
      "outputs": [
        {
          "output_type": "stream",
          "name": "stdout",
          "text": [
            "\n",
            "Exactitud promedio con validación cruzada (5-Fold): 0.7727\n"
          ]
        }
      ]
    },
    {
      "cell_type": "markdown",
      "source": [
        "En este modelo de regresión logística, se obtuvo una exactitud promedio de 77.27% mediante la validación cruzada con 5 pliegues, lo que significa que el modelo predice correctamente el 77.27% de las veces. Esta técnica de validación cruzada divide los datos en 5 partes, entrena el modelo en 4 de ellas y lo evalúa en la parte restante, repitiendo el proceso 5 veces. Esto asegura que el modelo no dependa de una sola división de los datos, proporcionando así una evaluación más confiable. Al utilizar diferentes partes de los datos para entrenar y probar, se reduce el riesgo de sobreajuste y se asegura que el modelo pueda generalizar bien a datos nuevos.\n",
        "\n",
        "A continuación, se evalúa el modelo utilizando métricas clave como la matriz de confusión, precisión, recall y exactitud para comprender mejor cómo se comporta en datos no vistos."
      ],
      "metadata": {
        "id": "MKwRKkl7PN-f"
      }
    },
    {
      "cell_type": "code",
      "source": [
        "from sklearn.metrics import confusion_matrix, accuracy_score, precision_score, recall_score\n",
        "\n",
        "# Se entra el modelo con todo el conjunto de entrenamiento\n",
        "modelo.fit(X_train, y_train)\n",
        "\n",
        "# vector de probabilidades en los datos de prueba\n",
        "y_prob = modelo.predict_proba(X_test)[:, 1]  # Probabilidades de la clase 1\n",
        "\n",
        "# Umbral 0.5\n",
        "y_pred_05 = (y_prob >= 0.5).astype(int)\n",
        "matriz_05 = confusion_matrix(y_test, y_pred_05)\n",
        "exactitud_05 = accuracy_score(y_test, y_pred_05)\n",
        "sensibilidad_05 = recall_score(y_test, y_pred_05)\n",
        "especificidad_05 = matriz_05[0, 0] / (matriz_05[0, 0] + matriz_05[0, 1])\n",
        "\n",
        "# Umbral 0.3\n",
        "y_pred_03 = (y_prob >= 0.3).astype(int)\n",
        "matriz_03 = confusion_matrix(y_test, y_pred_03)\n",
        "exactitud_03 = accuracy_score(y_test, y_pred_03)\n",
        "sensibilidad_03 = recall_score(y_test, y_pred_03)\n",
        "especificidad_03 = matriz_03[0, 0] / (matriz_03[0, 0] + matriz_03[0, 1])\n",
        "\n",
        "# Umbral 0.7\n",
        "y_pred_07 = (y_prob >= 0.7).astype(int)\n",
        "matriz_07 = confusion_matrix(y_test, y_pred_07)\n",
        "exactitud_07 = accuracy_score(y_test, y_pred_07)\n",
        "sensibilidad_07 = recall_score(y_test, y_pred_07)\n",
        "especificidad_07 = matriz_07[0, 0] / (matriz_07[0, 0] + matriz_07[0, 1])\n",
        "\n",
        "# RESULTADOS\n",
        "#Umbral de 0.5\n",
        "print(\"\\nUmbral 0.5:\")\n",
        "print(\"Matriz de Confusión:\")\n",
        "print(matriz_05)\n",
        "print(f\"Exactitud: {exactitud_05:.4f}\")\n",
        "print(f\"Sensibilidad: {sensibilidad_05:.4f}\")\n",
        "print(f\"Especificidad: {especificidad_05:.4f}\")\n",
        "\n",
        "#Ubral de 0.3\n",
        "print(\"\\nUmbral 0.3:\")\n",
        "print(\"Matriz de Confusión:\")\n",
        "print(matriz_03)\n",
        "print(f\"Exactitud: {exactitud_03:.4f}\")\n",
        "print(f\"Sensibilidad: {sensibilidad_03:.4f}\")\n",
        "print(f\"Especificidad: {especificidad_03:.4f}\")\n",
        "\n",
        "#Umbral de 0.7\n",
        "print(\"\\nUmbral 0.7:\")\n",
        "print(\"Matriz de Confusión:\")\n",
        "print(matriz_07)\n",
        "print(f\"Exactitud: {exactitud_07:.4f}\")\n",
        "print(f\"Sensibilidad: {sensibilidad_07:.4f}\")\n",
        "print(f\"Especificidad: {especificidad_07:.4f}\")"
      ],
      "metadata": {
        "colab": {
          "base_uri": "https://localhost:8080/"
        },
        "id": "ClVPl7EuSgMr",
        "outputId": "406d7acf-6a84-411c-ec4d-cc0641395e1d"
      },
      "execution_count": 75,
      "outputs": [
        {
          "output_type": "stream",
          "name": "stdout",
          "text": [
            "\n",
            "Umbral 0.5:\n",
            "Matriz de Confusión:\n",
            "[[ 64  42]\n",
            " [  6 144]]\n",
            "Exactitud: 0.8125\n",
            "Sensibilidad: 0.9600\n",
            "Especificidad: 0.6038\n",
            "\n",
            "Umbral 0.3:\n",
            "Matriz de Confusión:\n",
            "[[ 64  42]\n",
            " [  6 144]]\n",
            "Exactitud: 0.8125\n",
            "Sensibilidad: 0.9600\n",
            "Especificidad: 0.6038\n",
            "\n",
            "Umbral 0.7:\n",
            "Matriz de Confusión:\n",
            "[[98  8]\n",
            " [67 83]]\n",
            "Exactitud: 0.7070\n",
            "Sensibilidad: 0.5533\n",
            "Especificidad: 0.9245\n"
          ]
        }
      ]
    },
    {
      "cell_type": "markdown",
      "source": [
        "En este paso, se entrenó un modelo de regresión logística con todo el conjunto de datos de entrenamiento y se evaluó con tres umbrales diferentes (0.5, 0.3 y 0.7). Al cambiar estos umbrales, el modelo clasifica las probabilidades de manera distinta y se calcularon tres métricas: exactitud, sensibilidad y especificidad. Los resultados para los umbrales 0.5 y 0.3 fueron similares, pero al usar un umbral de 0.7, se observaron diferencias en el comportamiento del modelo. Esto muestra que el rendimiento del modelo puede variar dependiendo del umbral y que se pueden hacer ajustes para optimizar la clasificación según las necesidades. En el siguiente paso, se evaluará el modelo usando la curva ROC y el AUC para analizar su capacidad de discriminación y medir su efectividad general."
      ],
      "metadata": {
        "id": "59eNQemtVQW7"
      }
    },
    {
      "cell_type": "code",
      "source": [
        "from sklearn.metrics import roc_curve, auc\n",
        "import matplotlib.pyplot as plt\n",
        "\n",
        "# Calcular la Curva ROC y el AUC\n",
        "fpr, tpr, _ = roc_curve(y_test, y_prob)\n",
        "roc_auc = auc(fpr, tpr)\n",
        "\n",
        "# Graficar la Curva ROC\n",
        "plt.figure(figsize=(8, 6))\n",
        "plt.plot(fpr, tpr, color='blue', label=f'Curva ROC (AUC = {roc_auc:.2f})')\n",
        "plt.plot([0, 1], [0, 1], linestyle='--', color='gray')  # Línea diagonal\n",
        "plt.xlabel('Tasa de Falsos Positivos (FPR)')\n",
        "plt.ylabel('Tasa de Verdaderos Positivos (TPR)')\n",
        "plt.title('Curva ROC')\n",
        "plt.legend(loc='lower right')\n",
        "plt.show()"
      ],
      "metadata": {
        "colab": {
          "base_uri": "https://localhost:8080/",
          "height": 564
        },
        "id": "vluKKsdbVv3B",
        "outputId": "cd3b094b-9b12-4e97-bcc7-6b75e6fc9b16"
      },
      "execution_count": 76,
      "outputs": [
        {
          "output_type": "display_data",
          "data": {
            "text/plain": [
              "<Figure size 800x600 with 1 Axes>"
            ],
            "image/png": "[encoded data removed]"
          },
          "metadata": {}
        }
      ]
    },
    {
      "cell_type": "markdown",
      "source": [
        "La curva ROC muestra cómo el modelo clasifica las instancias positivas y negativas según diferentes umbrales. El AUC de 0.86 indica que el modelo tiene una buena capacidad para diferenciar entre las clases, ya que la curva está lejos de la línea diagonal (que representa un modelo aleatorio). Esto significa que el modelo está acertando bien en distinguir entre las clases, con un buen balance entre la tasa de verdaderos positivos (TPR) y la tasa de falsos positivos (FPR). A continuación, se revisarán los coeficientes del modelo de regresión logística para interpretar cómo cada variable afecta la predicción. Esto nos permitirá identificar qué características tienen mayor influencia en la clasificación, lo que es útil para comprender el comportamiento del modelo y, si es necesario, realizar ajustes que mejoren su desempeño. Este análisis también facilita la interpretabilidad del modelo, permitiendo ver de manera clara cómo las variables afectan las decisiones y predicciones que realiza."
      ],
      "metadata": {
        "id": "oDJ0djGZYrsU"
      }
    },
    {
      "cell_type": "code",
      "source": [
        "# Obtener los coeficientes del modelo\n",
        "coeficientes = pd.DataFrame({\n",
        "    \"Variable\": X_train.columns,\n",
        "    \"Coeficiente\": modelo.coef_[0]\n",
        "})\n",
        "\n",
        "# Ordenar los coeficientes por valor absoluto\n",
        "coeficientes = coeficientes.sort_values(by=\"Coeficiente\", ascending=False)\n",
        "\n",
        "# Mostrar los coeficientes más importantes\n",
        "print(\"\\nCoeficientes del modelo:\")\n",
        "print(coeficientes)"
      ],
      "metadata": {
        "colab": {
          "base_uri": "https://localhost:8080/"
        },
        "id": "peM4bgwUZVPv",
        "outputId": "08f633a9-87ae-449b-93c6-10704b15b7df"
      },
      "execution_count": 77,
      "outputs": [
        {
          "output_type": "stream",
          "name": "stdout",
          "text": [
            "\n",
            "Coeficientes del modelo:\n",
            "               Variable  Coeficiente\n",
            "0  home_goals_half_time     1.863667\n",
            "1  away_goals_half_time    -1.742903\n"
          ]
        }
      ]
    },
    {
      "cell_type": "markdown",
      "source": [
        "Al revisar los coeficientes del modelo, se observó que los goles del equipo local en el primer tiempo aumentan la probabilidad de que el equipo local gane, mientras que los goles del equipo visitante disminuyen esa probabilidad.\n",
        "\n",
        "En resumen, el modelo es bastante bueno para predecir los resultados de los partidos, con las variables clave siendo los goles en el primer tiempo de ambos equipos. Aunque el rendimiento es sólido, siempre se pueden hacer ajustes para mejorar aún más la precisión del modelo."
      ],
      "metadata": {
        "id": "QmQ7fB_NZ6Qj"
      }
    }
  ]
}